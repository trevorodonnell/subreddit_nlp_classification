{
 "cells": [
  {
   "cell_type": "code",
   "execution_count": 1,
   "metadata": {},
   "outputs": [],
   "source": [
    "import pandas as pd\n",
    "import numpy as np\n",
    "import matplotlib.pyplot as plt\n",
    "import seaborn as sns"
   ]
  },
  {
   "cell_type": "markdown",
   "metadata": {},
   "source": [
    "Creating dataframes from the cleaned retail and server csv files."
   ]
  },
  {
   "cell_type": "code",
   "execution_count": 2,
   "metadata": {},
   "outputs": [],
   "source": [
    "df = pd.read_csv('merged.csv')"
   ]
  },
  {
   "cell_type": "code",
   "execution_count": 3,
   "metadata": {},
   "outputs": [],
   "source": [
    "ret = pd.read_csv('retail_clean.csv')\n",
    "serv = pd.read_csv('server_clean.csv')"
   ]
  },
  {
   "cell_type": "markdown",
   "metadata": {},
   "source": [
    "Currently the individual datasets have identical column names. Renaming columns with identifiable tags in order to differentiate them."
   ]
  },
  {
   "cell_type": "code",
   "execution_count": 4,
   "metadata": {
    "scrolled": true
   },
   "outputs": [],
   "source": [
    "new = []\n",
    "for i in ret.columns:\n",
    "    new.append(i + \"_ret\")"
   ]
  },
  {
   "cell_type": "code",
   "execution_count": 5,
   "metadata": {},
   "outputs": [],
   "source": [
    "ret.columns = new"
   ]
  },
  {
   "cell_type": "code",
   "execution_count": 6,
   "metadata": {},
   "outputs": [],
   "source": [
    "new1 = []\n",
    "for i in serv.columns:\n",
    "    new1.append(i + \"_serv\")"
   ]
  },
  {
   "cell_type": "code",
   "execution_count": 7,
   "metadata": {},
   "outputs": [],
   "source": [
    "serv.columns = new1"
   ]
  },
  {
   "cell_type": "markdown",
   "metadata": {},
   "source": [
    "Horizontally concatenating retail and server dataframes into new dataframe \"ccat\"."
   ]
  },
  {
   "cell_type": "code",
   "execution_count": 8,
   "metadata": {},
   "outputs": [],
   "source": [
    "ccat = pd.concat([ret,serv],axis=1)"
   ]
  },
  {
   "cell_type": "markdown",
   "metadata": {},
   "source": [
    "Checking for null values in \"ccat\" dataframe, and due to the retail subreddit having 57 more posts than the server subreddit, 57 of the rows coming from the server subreddit data are null."
   ]
  },
  {
   "cell_type": "code",
   "execution_count": 9,
   "metadata": {},
   "outputs": [
    {
     "data": {
      "text/plain": [
       "subreddit_ret         0\n",
       "author_ret            0\n",
       "num_comments_ret      0\n",
       "score_ret             0\n",
       "is_self_ret           0\n",
       "timestamp_ret         0\n",
       "fulltext_ret          0\n",
       "year_ret              0\n",
       "month_ret             0\n",
       "subreddit_serv       57\n",
       "author_serv          57\n",
       "num_comments_serv    57\n",
       "score_serv           57\n",
       "is_self_serv         57\n",
       "timestamp_serv       57\n",
       "fulltext_serv        57\n",
       "year_serv            57\n",
       "month_serv           57\n",
       "dtype: int64"
      ]
     },
     "execution_count": 9,
     "metadata": {},
     "output_type": "execute_result"
    }
   ],
   "source": [
    "ccat.isnull().sum()"
   ]
  },
  {
   "cell_type": "markdown",
   "metadata": {},
   "source": [
    "Dropping null rows in \"ccat\". "
   ]
  },
  {
   "cell_type": "code",
   "execution_count": 10,
   "metadata": {},
   "outputs": [],
   "source": [
    "ccat = ccat.dropna()"
   ]
  },
  {
   "cell_type": "markdown",
   "metadata": {},
   "source": [
    "# EDA"
   ]
  },
  {
   "cell_type": "markdown",
   "metadata": {},
   "source": [
    "## Unique Author Rate"
   ]
  },
  {
   "cell_type": "markdown",
   "metadata": {},
   "source": [
    "Counting the unique authors from each subreddit, and also determining how many posts are generated from unique authors. Retail has more unique authors, both in absolute and relative terms, with about seventy unique auhtors per one hundred posts, where servers only have about sixty-five unique authors per one hundred posts."
   ]
  },
  {
   "cell_type": "code",
   "execution_count": 11,
   "metadata": {},
   "outputs": [
    {
     "data": {
      "text/plain": [
       "7828"
      ]
     },
     "execution_count": 11,
     "metadata": {},
     "output_type": "execute_result"
    }
   ],
   "source": [
    "len(ret['author_ret'].unique())"
   ]
  },
  {
   "cell_type": "code",
   "execution_count": 12,
   "metadata": {},
   "outputs": [
    {
     "data": {
      "text/plain": [
       "0.700366824729355"
      ]
     },
     "execution_count": 12,
     "metadata": {},
     "output_type": "execute_result"
    }
   ],
   "source": [
    "len(ret['author_ret'].unique())/len(ret['author_ret'])"
   ]
  },
  {
   "cell_type": "code",
   "execution_count": 13,
   "metadata": {},
   "outputs": [
    {
     "data": {
      "text/plain": [
       "7226"
      ]
     },
     "execution_count": 13,
     "metadata": {},
     "output_type": "execute_result"
    }
   ],
   "source": [
    "len(serv['author_serv'].unique())"
   ]
  },
  {
   "cell_type": "code",
   "execution_count": 14,
   "metadata": {},
   "outputs": [
    {
     "data": {
      "text/plain": [
       "0.6498201438848921"
      ]
     },
     "execution_count": 14,
     "metadata": {},
     "output_type": "execute_result"
    }
   ],
   "source": [
    "len(serv['author_serv'].unique())/len(serv['author_serv'])"
   ]
  },
  {
   "cell_type": "code",
   "execution_count": 15,
   "metadata": {},
   "outputs": [
    {
     "data": {
      "text/plain": [
       "14908"
      ]
     },
     "execution_count": 15,
     "metadata": {},
     "output_type": "execute_result"
    }
   ],
   "source": [
    "len(df['author'].unique())"
   ]
  },
  {
   "cell_type": "code",
   "execution_count": 16,
   "metadata": {},
   "outputs": [
    {
     "data": {
      "text/plain": [
       "0.6686101269229044"
      ]
     },
     "execution_count": 16,
     "metadata": {},
     "output_type": "execute_result"
    }
   ],
   "source": [
    "len(df['author'].unique())/len(df['author'])"
   ]
  },
  {
   "cell_type": "markdown",
   "metadata": {},
   "source": [
    "## Deleted Author Rate"
   ]
  },
  {
   "cell_type": "markdown",
   "metadata": {},
   "source": [
    "Examining how many authors have been deleted from each subreddit. It seems that many more authors have been deleted from the retail subreddit, presumably due to corporate interest in mitigating slanderous content, where independent restaurants may not have incentives or resources to do so. "
   ]
  },
  {
   "cell_type": "code",
   "execution_count": 17,
   "metadata": {},
   "outputs": [
    {
     "data": {
      "text/plain": [
       "1307"
      ]
     },
     "execution_count": 17,
     "metadata": {},
     "output_type": "execute_result"
    }
   ],
   "source": [
    "len(ret[ret['author_ret'] == '[deleted]'])"
   ]
  },
  {
   "cell_type": "code",
   "execution_count": 18,
   "metadata": {},
   "outputs": [
    {
     "data": {
      "text/plain": [
       "889"
      ]
     },
     "execution_count": 18,
     "metadata": {},
     "output_type": "execute_result"
    }
   ],
   "source": [
    "len(serv[serv['author_serv'] == '[deleted]'])"
   ]
  },
  {
   "cell_type": "code",
   "execution_count": 19,
   "metadata": {},
   "outputs": [
    {
     "data": {
      "text/plain": [
       "2196"
      ]
     },
     "execution_count": 19,
     "metadata": {},
     "output_type": "execute_result"
    }
   ],
   "source": [
    "len(df[df['author'] == '[deleted]'])"
   ]
  },
  {
   "cell_type": "markdown",
   "metadata": {},
   "source": [
    "## Comment Rate by Individual Subreddits and Merged Subreddits"
   ]
  },
  {
   "cell_type": "code",
   "execution_count": 20,
   "metadata": {},
   "outputs": [
    {
     "data": {
      "text/plain": [
       "0.5111389460499239"
      ]
     },
     "execution_count": 20,
     "metadata": {},
     "output_type": "execute_result"
    }
   ],
   "source": [
    "len(ret[ret['num_comments_ret'] == 0])/len(ret['num_comments_ret'])"
   ]
  },
  {
   "cell_type": "code",
   "execution_count": 21,
   "metadata": {},
   "outputs": [
    {
     "data": {
      "text/plain": [
       "0.09433453237410072"
      ]
     },
     "execution_count": 21,
     "metadata": {},
     "output_type": "execute_result"
    }
   ],
   "source": [
    "len(serv[serv['num_comments_serv'] == 0])/len(serv['num_comments_serv'])"
   ]
  },
  {
   "cell_type": "code",
   "execution_count": 22,
   "metadata": {
    "scrolled": false
   },
   "outputs": [
    {
     "data": {
      "text/plain": [
       "0.3032694981387631"
      ]
     },
     "execution_count": 22,
     "metadata": {},
     "output_type": "execute_result"
    }
   ],
   "source": [
    "len(df[df['num_comments'] == 0])/len(df['num_comments'])"
   ]
  },
  {
   "cell_type": "markdown",
   "metadata": {},
   "source": [
    "## Score Rates by Individual Subreddits and Merged Subreddits"
   ]
  },
  {
   "cell_type": "code",
   "execution_count": 23,
   "metadata": {},
   "outputs": [
    {
     "data": {
      "text/plain": [
       "0.013420416927619219"
      ]
     },
     "execution_count": 23,
     "metadata": {},
     "output_type": "execute_result"
    }
   ],
   "source": [
    "len(ret[ret['score_ret'] == 0])/len(ret['score_ret'])"
   ]
  },
  {
   "cell_type": "code",
   "execution_count": 24,
   "metadata": {},
   "outputs": [
    {
     "data": {
      "text/plain": [
       "0.04379496402877698"
      ]
     },
     "execution_count": 24,
     "metadata": {},
     "output_type": "execute_result"
    }
   ],
   "source": [
    "len(serv[serv['score_serv'] == 0])/len(serv['score_serv'])"
   ]
  },
  {
   "cell_type": "code",
   "execution_count": 25,
   "metadata": {},
   "outputs": [
    {
     "data": {
      "text/plain": [
       "0.02856886576669507"
      ]
     },
     "execution_count": 25,
     "metadata": {},
     "output_type": "execute_result"
    }
   ],
   "source": [
    "len(df[df['score'] == 0])/len(df['score'])"
   ]
  },
  {
   "cell_type": "code",
   "execution_count": 81,
   "metadata": {
    "scrolled": true
   },
   "outputs": [
    {
     "data": {
      "text/html": [
       "<div>\n",
       "<style scoped>\n",
       "    .dataframe tbody tr th:only-of-type {\n",
       "        vertical-align: middle;\n",
       "    }\n",
       "\n",
       "    .dataframe tbody tr th {\n",
       "        vertical-align: top;\n",
       "    }\n",
       "\n",
       "    .dataframe thead th {\n",
       "        text-align: right;\n",
       "    }\n",
       "</style>\n",
       "<table border=\"1\" class=\"dataframe\">\n",
       "  <thead>\n",
       "    <tr style=\"text-align: right;\">\n",
       "      <th></th>\n",
       "      <th>subreddit_ret</th>\n",
       "      <th>author_ret</th>\n",
       "      <th>num_comments_ret</th>\n",
       "      <th>score_ret</th>\n",
       "      <th>is_self_ret</th>\n",
       "      <th>timestamp_ret</th>\n",
       "      <th>fulltext_ret</th>\n",
       "      <th>year_ret</th>\n",
       "      <th>month_ret</th>\n",
       "      <th>post_length_ret</th>\n",
       "    </tr>\n",
       "  </thead>\n",
       "  <tbody>\n",
       "    <tr>\n",
       "      <th>5974</th>\n",
       "      <td>TalesFromRetail</td>\n",
       "      <td>Martinwuff</td>\n",
       "      <td>179</td>\n",
       "      <td>11542</td>\n",
       "      <td>True</td>\n",
       "      <td>2017-05-09</td>\n",
       "      <td>Diet Coke Ladies Worked at a fast food chain w...</td>\n",
       "      <td>2017</td>\n",
       "      <td>5</td>\n",
       "      <td>1178</td>\n",
       "    </tr>\n",
       "  </tbody>\n",
       "</table>\n",
       "</div>"
      ],
      "text/plain": [
       "        subreddit_ret  author_ret  num_comments_ret  score_ret  is_self_ret  \\\n",
       "5974  TalesFromRetail  Martinwuff               179      11542         True   \n",
       "\n",
       "     timestamp_ret                                       fulltext_ret  \\\n",
       "5974    2017-05-09  Diet Coke Ladies Worked at a fast food chain w...   \n",
       "\n",
       "      year_ret  month_ret  post_length_ret  \n",
       "5974      2017          5             1178  "
      ]
     },
     "execution_count": 81,
     "metadata": {},
     "output_type": "execute_result"
    }
   ],
   "source": [
    "ret[ret['score_ret'] == ret['score_ret'].max()]"
   ]
  },
  {
   "cell_type": "code",
   "execution_count": 89,
   "metadata": {},
   "outputs": [
    {
     "data": {
      "text/plain": [
       "'Diet Coke Ladies Worked at a fast food chain when I was in high school. Many stories to be had about the work, but the only one really worth mentioning is a happy one. \\n\\nOne of our recurring customers was \"the diet coke ladies\". Every afternoon, they would come through the drive thru and order 2 medium diet cokes. It was two older ladies, with their dogs in the back of their little Rav 4. Always nice, always wanting only 2 medium diet cokes. Occasionally, if things were super slow, we\\'d have a little chat as they paid (only a minute or two), and they would drive up to the second window for their drinks. Everyone in the store knew them, and you just had to shout \"diet coke ladies are here!\" and the person up front would get the drinks ready. \\n\\nAs I was getting ready to go to college in a couple weeks, I happened to mention it to them. They were glad for me, and wished me well. \\n\\nTwo days later, they came through the drive-thru per usual, but when they paid, they also handed me a little box, wrapped with a little silk ribbon. Inside was a silver pen, and engraved on the side was \"2 Medium Diet Cokes\". \\n\\nThey told me they wanted me to pass my first test with it. '"
      ]
     },
     "execution_count": 89,
     "metadata": {},
     "output_type": "execute_result"
    }
   ],
   "source": [
    "ret['fulltext_ret'][5974]"
   ]
  },
  {
   "cell_type": "code",
   "execution_count": 84,
   "metadata": {},
   "outputs": [
    {
     "data": {
      "text/html": [
       "<div>\n",
       "<style scoped>\n",
       "    .dataframe tbody tr th:only-of-type {\n",
       "        vertical-align: middle;\n",
       "    }\n",
       "\n",
       "    .dataframe tbody tr th {\n",
       "        vertical-align: top;\n",
       "    }\n",
       "\n",
       "    .dataframe thead th {\n",
       "        text-align: right;\n",
       "    }\n",
       "</style>\n",
       "<table border=\"1\" class=\"dataframe\">\n",
       "  <thead>\n",
       "    <tr style=\"text-align: right;\">\n",
       "      <th></th>\n",
       "      <th>subreddit_serv</th>\n",
       "      <th>author_serv</th>\n",
       "      <th>num_comments_serv</th>\n",
       "      <th>score_serv</th>\n",
       "      <th>is_self_serv</th>\n",
       "      <th>timestamp_serv</th>\n",
       "      <th>fulltext_serv</th>\n",
       "      <th>year_serv</th>\n",
       "      <th>month_serv</th>\n",
       "      <th>post_length_serv</th>\n",
       "    </tr>\n",
       "  </thead>\n",
       "  <tbody>\n",
       "    <tr>\n",
       "      <th>4504</th>\n",
       "      <td>TalesFromYourServer</td>\n",
       "      <td>Philosopheraven</td>\n",
       "      <td>201</td>\n",
       "      <td>13528</td>\n",
       "      <td>True</td>\n",
       "      <td>2018-06-14</td>\n",
       "      <td>The Phone Call I know we all have had those ph...</td>\n",
       "      <td>2018</td>\n",
       "      <td>6</td>\n",
       "      <td>2954</td>\n",
       "    </tr>\n",
       "  </tbody>\n",
       "</table>\n",
       "</div>"
      ],
      "text/plain": [
       "           subreddit_serv      author_serv  num_comments_serv  score_serv  \\\n",
       "4504  TalesFromYourServer  Philosopheraven                201       13528   \n",
       "\n",
       "      is_self_serv timestamp_serv  \\\n",
       "4504          True     2018-06-14   \n",
       "\n",
       "                                          fulltext_serv  year_serv  \\\n",
       "4504  The Phone Call I know we all have had those ph...       2018   \n",
       "\n",
       "      month_serv  post_length_serv  \n",
       "4504           6              2954  "
      ]
     },
     "execution_count": 84,
     "metadata": {},
     "output_type": "execute_result"
    }
   ],
   "source": [
    "serv[serv['score_serv'] == serv['score_serv'].max()]"
   ]
  },
  {
   "cell_type": "code",
   "execution_count": 92,
   "metadata": {
    "scrolled": true
   },
   "outputs": [
    {
     "data": {
      "text/plain": [
       "'The Phone Call I know we all have had those phone calls. The ones from customers after they get take-out and something was messed up. They can range from the upset woman, who got the chicken when it was supposed to be steak, who just wants it to be comped the next time she comes in to the raging man who found 1 onion in his taco and is planning to drive to the store to scream at the manager and wants everyone fired. It\\'s always a little nerve racking when you deal with these phone calls. \\n\\nThe procedure for my store when getting one of these phone calls is to get a manager immediately but I feel like I can deal with these customers better than my managers. And my managers all know this so I am allowed to take these calls. It was a busy Thursday evening because we have a burrito special so the store was slammed. We also have Uber Eats which means we have Uber drivers coming in and out getting takeout orders. If you know anything about Uber Eats they can sometimes write comments to specify certain things that they want done. \\n\\nAfter we slowed down a little bit we got an Uber order and in the comments the man said \"could you please add napkins and draw a smiley face on something to make me a little happy tonight.\" Of course after I showed all of the servers we all freaked out and decided we would write him so many notes just to brighten up his evening. We ended up making over 50 notes including jokes, drawings, little stories. (and an extra side of queso) I felt really nice to be able to do something for someone. \\n\\nSo as I was getting ready to clock out one of the other servers comes and gets me and says there\\'s a man on the phone and wants to speak to a manager about something but they\\'re all busy so can you take this? Of course I\\'m like oh geez I do not want to be dealing with this right before I leave but I reluctantly agree and ask him how I can help. He proceeds to tell me that he was the one who placed the Uber order and after receiving all of the notes he just wanted to call and say thank you. He started to cry on the phone and I didn\\'t know what to say so I just told him that we loved serving him and we hope to continue to do so. \\n\\nHe told me that he wishes he would he was able to come into the restaurant but hadn\\'t been able to leave his house in years. His little splurge every week was ordering takeout from our store. I started to tear up and asked him to hold on for a minute. I got all of the servers and put him on speaker phone I said \"Hello from Chain Mexican Restaurant we all just wanted to say have a great night\" and all the girls got the cue and started saying have a good night. Enjoy your burrito! We can\\'t wait to do this next week! I took the phone off speaker phone after everyone had said something. I told him that he was now not only a valued customer but a friend. I thanked him again and hung up. Now I\\'m sitting in my car crying thinking about this stranger and I hoped we helped him.'"
      ]
     },
     "execution_count": 92,
     "metadata": {},
     "output_type": "execute_result"
    }
   ],
   "source": [
    "serv['fulltext_serv'][4504]"
   ]
  },
  {
   "cell_type": "code",
   "execution_count": 93,
   "metadata": {},
   "outputs": [
    {
     "data": {
      "text/html": [
       "<div>\n",
       "<style scoped>\n",
       "    .dataframe tbody tr th:only-of-type {\n",
       "        vertical-align: middle;\n",
       "    }\n",
       "\n",
       "    .dataframe tbody tr th {\n",
       "        vertical-align: top;\n",
       "    }\n",
       "\n",
       "    .dataframe thead th {\n",
       "        text-align: right;\n",
       "    }\n",
       "</style>\n",
       "<table border=\"1\" class=\"dataframe\">\n",
       "  <thead>\n",
       "    <tr style=\"text-align: right;\">\n",
       "      <th></th>\n",
       "      <th>subreddit_ret</th>\n",
       "      <th>author_ret</th>\n",
       "      <th>num_comments_ret</th>\n",
       "      <th>score_ret</th>\n",
       "      <th>is_self_ret</th>\n",
       "      <th>timestamp_ret</th>\n",
       "      <th>fulltext_ret</th>\n",
       "      <th>year_ret</th>\n",
       "      <th>month_ret</th>\n",
       "      <th>post_length_ret</th>\n",
       "    </tr>\n",
       "  </thead>\n",
       "  <tbody>\n",
       "    <tr>\n",
       "      <th>7244</th>\n",
       "      <td>TalesFromRetail</td>\n",
       "      <td>snert12</td>\n",
       "      <td>815</td>\n",
       "      <td>4131</td>\n",
       "      <td>True</td>\n",
       "      <td>2016-06-18</td>\n",
       "      <td>Your \"34\" items comes to a grand total of... I...</td>\n",
       "      <td>2016</td>\n",
       "      <td>6</td>\n",
       "      <td>1222</td>\n",
       "    </tr>\n",
       "  </tbody>\n",
       "</table>\n",
       "</div>"
      ],
      "text/plain": [
       "        subreddit_ret author_ret  num_comments_ret  score_ret  is_self_ret  \\\n",
       "7244  TalesFromRetail    snert12               815       4131         True   \n",
       "\n",
       "     timestamp_ret                                       fulltext_ret  \\\n",
       "7244    2016-06-18  Your \"34\" items comes to a grand total of... I...   \n",
       "\n",
       "      year_ret  month_ret  post_length_ret  \n",
       "7244      2016          6             1222  "
      ]
     },
     "execution_count": 93,
     "metadata": {},
     "output_type": "execute_result"
    }
   ],
   "source": [
    "ret[ret['num_comments_ret'] == ret['num_comments_ret'].max()]"
   ]
  },
  {
   "cell_type": "code",
   "execution_count": 94,
   "metadata": {},
   "outputs": [
    {
     "data": {
      "text/plain": [
       "'Your \"34\" items comes to a grand total of... I was working express (fifteen items or fewer) at the grocery store I work at today and a woman comes up with one of our small carts packed to the brim.\\n\\n&gt; Me: excuse me ma\\'am this is an express lane for only fifteen items or fewer\\n\\n&gt; Lady: I have about 17, is that ok?\\n\\n&gt; Me: Are you sure that\\'s 17 you have quite a bit\\n\\n&gt; Lady: No I counted its seventeen its fine\\n\\nWithout a response she unloads all her groceries onto the cart. I am dealing with another customer in front of her at the moment so I have no time to make a fuss.\\n \\nShe has a lot of items on the belt, way over 17. How inconsiderate to the people behind her. There was no use telling her to reload her cart that would take more time. I ring her up with a deadpan angry face as she smuggly watched me bag her copious amount of groceries. I look at the item counter and she bought 34 items. What happened to \"17\" \"I counted\"\\n\\n&gt; Me: Ok, your **thirty-four** items will come to a grand total of 117.90\\n\\nI said this in my most beautifully cheery sarcastic retail voice. Her face turned bright red. Customers seem to think there isn\\'t an item counter, my register tells me how many items i\\'ve scanned. '"
      ]
     },
     "execution_count": 94,
     "metadata": {},
     "output_type": "execute_result"
    }
   ],
   "source": [
    "ret['fulltext_ret'][7244]"
   ]
  },
  {
   "cell_type": "code",
   "execution_count": null,
   "metadata": {},
   "outputs": [],
   "source": []
  },
  {
   "cell_type": "markdown",
   "metadata": {},
   "source": [
    "## Post length"
   ]
  },
  {
   "cell_type": "markdown",
   "metadata": {},
   "source": [
    "Creating a new post length columns in both the retail and server dataframe"
   ]
  },
  {
   "cell_type": "code",
   "execution_count": 26,
   "metadata": {},
   "outputs": [],
   "source": [
    "ret['post_length_ret'] = ret['fulltext_ret'].map(lambda x: len(x))"
   ]
  },
  {
   "cell_type": "code",
   "execution_count": 27,
   "metadata": {},
   "outputs": [],
   "source": [
    "serv['post_length_serv'] = serv['fulltext_serv'].map(lambda x: len(x))"
   ]
  },
  {
   "cell_type": "code",
   "execution_count": 28,
   "metadata": {},
   "outputs": [],
   "source": [
    "df['post_length'] = df['fulltext'].map(lambda x: len(x))"
   ]
  },
  {
   "cell_type": "markdown",
   "metadata": {},
   "source": [
    "Examining the mean  length, maximum post length, as well as the actual text from the longest post for each dataframe. It seems average our servers are slightly more verbose than their retail counterparts. However, the longest post from the retail subreddit is close to double length of the longest post from server subreddit."
   ]
  },
  {
   "cell_type": "code",
   "execution_count": 29,
   "metadata": {},
   "outputs": [
    {
     "data": {
      "text/plain": [
       "1022.7557484119174"
      ]
     },
     "execution_count": 29,
     "metadata": {},
     "output_type": "execute_result"
    }
   ],
   "source": [
    "ret['post_length_ret'].mean()"
   ]
  },
  {
   "cell_type": "code",
   "execution_count": 30,
   "metadata": {},
   "outputs": [
    {
     "data": {
      "text/plain": [
       "27136"
      ]
     },
     "execution_count": 30,
     "metadata": {},
     "output_type": "execute_result"
    }
   ],
   "source": [
    "ret['post_length_ret'].max()"
   ]
  },
  {
   "cell_type": "code",
   "execution_count": 31,
   "metadata": {},
   "outputs": [
    {
     "data": {
      "text/html": [
       "<div>\n",
       "<style scoped>\n",
       "    .dataframe tbody tr th:only-of-type {\n",
       "        vertical-align: middle;\n",
       "    }\n",
       "\n",
       "    .dataframe tbody tr th {\n",
       "        vertical-align: top;\n",
       "    }\n",
       "\n",
       "    .dataframe thead th {\n",
       "        text-align: right;\n",
       "    }\n",
       "</style>\n",
       "<table border=\"1\" class=\"dataframe\">\n",
       "  <thead>\n",
       "    <tr style=\"text-align: right;\">\n",
       "      <th></th>\n",
       "      <th>subreddit_ret</th>\n",
       "      <th>author_ret</th>\n",
       "      <th>num_comments_ret</th>\n",
       "      <th>score_ret</th>\n",
       "      <th>is_self_ret</th>\n",
       "      <th>timestamp_ret</th>\n",
       "      <th>fulltext_ret</th>\n",
       "      <th>year_ret</th>\n",
       "      <th>month_ret</th>\n",
       "      <th>post_length_ret</th>\n",
       "    </tr>\n",
       "  </thead>\n",
       "  <tbody>\n",
       "    <tr>\n",
       "      <th>10946</th>\n",
       "      <td>TalesFromRetail</td>\n",
       "      <td>dendawg</td>\n",
       "      <td>35</td>\n",
       "      <td>239</td>\n",
       "      <td>True</td>\n",
       "      <td>2012-12-23</td>\n",
       "      <td>The Vinegar Boy Story (Epic length) This is no...</td>\n",
       "      <td>2012</td>\n",
       "      <td>12</td>\n",
       "      <td>27136</td>\n",
       "    </tr>\n",
       "  </tbody>\n",
       "</table>\n",
       "</div>"
      ],
      "text/plain": [
       "         subreddit_ret author_ret  num_comments_ret  score_ret  is_self_ret  \\\n",
       "10946  TalesFromRetail    dendawg                35        239         True   \n",
       "\n",
       "      timestamp_ret                                       fulltext_ret  \\\n",
       "10946    2012-12-23  The Vinegar Boy Story (Epic length) This is no...   \n",
       "\n",
       "       year_ret  month_ret  post_length_ret  \n",
       "10946      2012         12            27136  "
      ]
     },
     "execution_count": 31,
     "metadata": {},
     "output_type": "execute_result"
    }
   ],
   "source": [
    "ret[ret['post_length_ret'] == 27136]"
   ]
  },
  {
   "cell_type": "code",
   "execution_count": 32,
   "metadata": {},
   "outputs": [
    {
     "data": {
      "text/plain": [
       "1236.7795863309352"
      ]
     },
     "execution_count": 32,
     "metadata": {},
     "output_type": "execute_result"
    }
   ],
   "source": [
    "serv['post_length_serv'].mean()"
   ]
  },
  {
   "cell_type": "code",
   "execution_count": 33,
   "metadata": {},
   "outputs": [
    {
     "data": {
      "text/plain": [
       "14040"
      ]
     },
     "execution_count": 33,
     "metadata": {},
     "output_type": "execute_result"
    }
   ],
   "source": [
    "serv['post_length_serv'].max()"
   ]
  },
  {
   "cell_type": "code",
   "execution_count": 34,
   "metadata": {
    "scrolled": true
   },
   "outputs": [
    {
     "data": {
      "text/html": [
       "<div>\n",
       "<style scoped>\n",
       "    .dataframe tbody tr th:only-of-type {\n",
       "        vertical-align: middle;\n",
       "    }\n",
       "\n",
       "    .dataframe tbody tr th {\n",
       "        vertical-align: top;\n",
       "    }\n",
       "\n",
       "    .dataframe thead th {\n",
       "        text-align: right;\n",
       "    }\n",
       "</style>\n",
       "<table border=\"1\" class=\"dataframe\">\n",
       "  <thead>\n",
       "    <tr style=\"text-align: right;\">\n",
       "      <th></th>\n",
       "      <th>subreddit_serv</th>\n",
       "      <th>author_serv</th>\n",
       "      <th>num_comments_serv</th>\n",
       "      <th>score_serv</th>\n",
       "      <th>is_self_serv</th>\n",
       "      <th>timestamp_serv</th>\n",
       "      <th>fulltext_serv</th>\n",
       "      <th>year_serv</th>\n",
       "      <th>month_serv</th>\n",
       "      <th>post_length_serv</th>\n",
       "    </tr>\n",
       "  </thead>\n",
       "  <tbody>\n",
       "    <tr>\n",
       "      <th>946</th>\n",
       "      <td>TalesFromYourServer</td>\n",
       "      <td>ladiestorm</td>\n",
       "      <td>97</td>\n",
       "      <td>1</td>\n",
       "      <td>True</td>\n",
       "      <td>2020-12-04</td>\n",
       "      <td>Schooling the Manager I have a story for you a...</td>\n",
       "      <td>2020</td>\n",
       "      <td>12</td>\n",
       "      <td>14040</td>\n",
       "    </tr>\n",
       "  </tbody>\n",
       "</table>\n",
       "</div>"
      ],
      "text/plain": [
       "          subreddit_serv author_serv  num_comments_serv  score_serv  \\\n",
       "946  TalesFromYourServer  ladiestorm                 97           1   \n",
       "\n",
       "     is_self_serv timestamp_serv  \\\n",
       "946          True     2020-12-04   \n",
       "\n",
       "                                         fulltext_serv  year_serv  month_serv  \\\n",
       "946  Schooling the Manager I have a story for you a...       2020          12   \n",
       "\n",
       "     post_length_serv  \n",
       "946             14040  "
      ]
     },
     "execution_count": 34,
     "metadata": {},
     "output_type": "execute_result"
    }
   ],
   "source": [
    "serv[serv['post_length_serv'] == 14040]"
   ]
  },
  {
   "cell_type": "code",
   "execution_count": 35,
   "metadata": {},
   "outputs": [
    {
     "data": {
      "text/html": [
       "<div>\n",
       "<style scoped>\n",
       "    .dataframe tbody tr th:only-of-type {\n",
       "        vertical-align: middle;\n",
       "    }\n",
       "\n",
       "    .dataframe tbody tr th {\n",
       "        vertical-align: top;\n",
       "    }\n",
       "\n",
       "    .dataframe thead th {\n",
       "        text-align: right;\n",
       "    }\n",
       "</style>\n",
       "<table border=\"1\" class=\"dataframe\">\n",
       "  <thead>\n",
       "    <tr style=\"text-align: right;\">\n",
       "      <th></th>\n",
       "      <th>count</th>\n",
       "      <th>mean</th>\n",
       "      <th>std</th>\n",
       "      <th>min</th>\n",
       "      <th>25%</th>\n",
       "      <th>50%</th>\n",
       "      <th>75%</th>\n",
       "      <th>max</th>\n",
       "    </tr>\n",
       "  </thead>\n",
       "  <tbody>\n",
       "    <tr>\n",
       "      <th>num_comments_ret</th>\n",
       "      <td>11177.0</td>\n",
       "      <td>17.637022</td>\n",
       "      <td>40.273844</td>\n",
       "      <td>0.0</td>\n",
       "      <td>0.0</td>\n",
       "      <td>0.0</td>\n",
       "      <td>19.0</td>\n",
       "      <td>815.0</td>\n",
       "    </tr>\n",
       "    <tr>\n",
       "      <th>score_ret</th>\n",
       "      <td>11177.0</td>\n",
       "      <td>137.507381</td>\n",
       "      <td>425.029261</td>\n",
       "      <td>0.0</td>\n",
       "      <td>1.0</td>\n",
       "      <td>1.0</td>\n",
       "      <td>94.0</td>\n",
       "      <td>11542.0</td>\n",
       "    </tr>\n",
       "    <tr>\n",
       "      <th>year_ret</th>\n",
       "      <td>11177.0</td>\n",
       "      <td>2017.130983</td>\n",
       "      <td>2.330362</td>\n",
       "      <td>2012.0</td>\n",
       "      <td>2015.0</td>\n",
       "      <td>2017.0</td>\n",
       "      <td>2019.0</td>\n",
       "      <td>2021.0</td>\n",
       "    </tr>\n",
       "    <tr>\n",
       "      <th>month_ret</th>\n",
       "      <td>11177.0</td>\n",
       "      <td>6.458084</td>\n",
       "      <td>3.498550</td>\n",
       "      <td>1.0</td>\n",
       "      <td>3.0</td>\n",
       "      <td>6.0</td>\n",
       "      <td>10.0</td>\n",
       "      <td>12.0</td>\n",
       "    </tr>\n",
       "    <tr>\n",
       "      <th>post_length_ret</th>\n",
       "      <td>11177.0</td>\n",
       "      <td>1022.755748</td>\n",
       "      <td>1441.040302</td>\n",
       "      <td>2.0</td>\n",
       "      <td>35.0</td>\n",
       "      <td>84.0</td>\n",
       "      <td>1692.0</td>\n",
       "      <td>27136.0</td>\n",
       "    </tr>\n",
       "  </tbody>\n",
       "</table>\n",
       "</div>"
      ],
      "text/plain": [
       "                    count         mean          std     min     25%     50%  \\\n",
       "num_comments_ret  11177.0    17.637022    40.273844     0.0     0.0     0.0   \n",
       "score_ret         11177.0   137.507381   425.029261     0.0     1.0     1.0   \n",
       "year_ret          11177.0  2017.130983     2.330362  2012.0  2015.0  2017.0   \n",
       "month_ret         11177.0     6.458084     3.498550     1.0     3.0     6.0   \n",
       "post_length_ret   11177.0  1022.755748  1441.040302     2.0    35.0    84.0   \n",
       "\n",
       "                     75%      max  \n",
       "num_comments_ret    19.0    815.0  \n",
       "score_ret           94.0  11542.0  \n",
       "year_ret          2019.0   2021.0  \n",
       "month_ret           10.0     12.0  \n",
       "post_length_ret   1692.0  27136.0  "
      ]
     },
     "execution_count": 35,
     "metadata": {},
     "output_type": "execute_result"
    }
   ],
   "source": [
    "ret.describe().T"
   ]
  },
  {
   "cell_type": "code",
   "execution_count": 36,
   "metadata": {
    "scrolled": true
   },
   "outputs": [
    {
     "data": {
      "text/html": [
       "<div>\n",
       "<style scoped>\n",
       "    .dataframe tbody tr th:only-of-type {\n",
       "        vertical-align: middle;\n",
       "    }\n",
       "\n",
       "    .dataframe tbody tr th {\n",
       "        vertical-align: top;\n",
       "    }\n",
       "\n",
       "    .dataframe thead th {\n",
       "        text-align: right;\n",
       "    }\n",
       "</style>\n",
       "<table border=\"1\" class=\"dataframe\">\n",
       "  <thead>\n",
       "    <tr style=\"text-align: right;\">\n",
       "      <th></th>\n",
       "      <th>count</th>\n",
       "      <th>mean</th>\n",
       "      <th>std</th>\n",
       "      <th>min</th>\n",
       "      <th>25%</th>\n",
       "      <th>50%</th>\n",
       "      <th>75%</th>\n",
       "      <th>max</th>\n",
       "    </tr>\n",
       "  </thead>\n",
       "  <tbody>\n",
       "    <tr>\n",
       "      <th>num_comments_serv</th>\n",
       "      <td>11120.0</td>\n",
       "      <td>22.853327</td>\n",
       "      <td>47.397182</td>\n",
       "      <td>0.0</td>\n",
       "      <td>4.0</td>\n",
       "      <td>10.0</td>\n",
       "      <td>22.00</td>\n",
       "      <td>1276.0</td>\n",
       "    </tr>\n",
       "    <tr>\n",
       "      <th>score_serv</th>\n",
       "      <td>11120.0</td>\n",
       "      <td>86.862140</td>\n",
       "      <td>349.036965</td>\n",
       "      <td>0.0</td>\n",
       "      <td>1.0</td>\n",
       "      <td>13.0</td>\n",
       "      <td>57.00</td>\n",
       "      <td>13528.0</td>\n",
       "    </tr>\n",
       "    <tr>\n",
       "      <th>year_serv</th>\n",
       "      <td>11120.0</td>\n",
       "      <td>2017.227608</td>\n",
       "      <td>2.255888</td>\n",
       "      <td>2012.0</td>\n",
       "      <td>2015.0</td>\n",
       "      <td>2017.0</td>\n",
       "      <td>2019.00</td>\n",
       "      <td>2021.0</td>\n",
       "    </tr>\n",
       "    <tr>\n",
       "      <th>month_serv</th>\n",
       "      <td>11120.0</td>\n",
       "      <td>6.376799</td>\n",
       "      <td>3.470343</td>\n",
       "      <td>1.0</td>\n",
       "      <td>3.0</td>\n",
       "      <td>6.0</td>\n",
       "      <td>9.00</td>\n",
       "      <td>12.0</td>\n",
       "    </tr>\n",
       "    <tr>\n",
       "      <th>post_length_serv</th>\n",
       "      <td>11120.0</td>\n",
       "      <td>1236.779586</td>\n",
       "      <td>1357.919085</td>\n",
       "      <td>5.0</td>\n",
       "      <td>258.0</td>\n",
       "      <td>831.0</td>\n",
       "      <td>1745.25</td>\n",
       "      <td>14040.0</td>\n",
       "    </tr>\n",
       "  </tbody>\n",
       "</table>\n",
       "</div>"
      ],
      "text/plain": [
       "                     count         mean          std     min     25%     50%  \\\n",
       "num_comments_serv  11120.0    22.853327    47.397182     0.0     4.0    10.0   \n",
       "score_serv         11120.0    86.862140   349.036965     0.0     1.0    13.0   \n",
       "year_serv          11120.0  2017.227608     2.255888  2012.0  2015.0  2017.0   \n",
       "month_serv         11120.0     6.376799     3.470343     1.0     3.0     6.0   \n",
       "post_length_serv   11120.0  1236.779586  1357.919085     5.0   258.0   831.0   \n",
       "\n",
       "                       75%      max  \n",
       "num_comments_serv    22.00   1276.0  \n",
       "score_serv           57.00  13528.0  \n",
       "year_serv          2019.00   2021.0  \n",
       "month_serv            9.00     12.0  \n",
       "post_length_serv   1745.25  14040.0  "
      ]
     },
     "execution_count": 36,
     "metadata": {},
     "output_type": "execute_result"
    }
   ],
   "source": [
    "serv.describe().T"
   ]
  },
  {
   "cell_type": "code",
   "execution_count": 75,
   "metadata": {},
   "outputs": [
    {
     "data": {
      "text/plain": [
       "2017    2944\n",
       "2015    2943\n",
       "2014    2942\n",
       "2020    2928\n",
       "2019    2885\n",
       "2018    2838\n",
       "2016    2796\n",
       "2021    1579\n",
       "2012     437\n",
       "2013       5\n",
       "Name: year, dtype: int64"
      ]
     },
     "execution_count": 75,
     "metadata": {},
     "output_type": "execute_result"
    }
   ],
   "source": [
    "df['year'].value_counts()"
   ]
  },
  {
   "cell_type": "markdown",
   "metadata": {},
   "source": [
    "# Visualizations"
   ]
  },
  {
   "cell_type": "markdown",
   "metadata": {},
   "source": [
    "## Histograms"
   ]
  },
  {
   "cell_type": "code",
   "execution_count": 37,
   "metadata": {},
   "outputs": [
    {
     "data": {
      "text/plain": [
       "(array([9.915e+03, 1.098e+03, 1.310e+02, 2.400e+01, 6.000e+00, 2.000e+00,\n",
       "        0.000e+00, 0.000e+00, 0.000e+00, 1.000e+00]),\n",
       " array([2.00000e+00, 2.71540e+03, 5.42880e+03, 8.14220e+03, 1.08556e+04,\n",
       "        1.35690e+04, 1.62824e+04, 1.89958e+04, 2.17092e+04, 2.44226e+04,\n",
       "        2.71360e+04]),\n",
       " <BarContainer object of 10 artists>)"
      ]
     },
     "execution_count": 37,
     "metadata": {},
     "output_type": "execute_result"
    },
    {
     "data": {
      "image/png": "[encoded data removed]",
      "text/plain": [
       "<Figure size 432x288 with 1 Axes>"
      ]
     },
     "metadata": {
      "needs_background": "light"
     },
     "output_type": "display_data"
    }
   ],
   "source": [
    "plt.hist(ret['post_length_ret'])"
   ]
  },
  {
   "cell_type": "code",
   "execution_count": 38,
   "metadata": {
    "scrolled": true
   },
   "outputs": [
    {
     "data": {
      "text/plain": [
       "(array([7.551e+03, 2.349e+03, 7.960e+02, 2.600e+02, 9.100e+01, 3.800e+01,\n",
       "        2.100e+01, 9.000e+00, 3.000e+00, 2.000e+00]),\n",
       " array([5.00000e+00, 1.40850e+03, 2.81200e+03, 4.21550e+03, 5.61900e+03,\n",
       "        7.02250e+03, 8.42600e+03, 9.82950e+03, 1.12330e+04, 1.26365e+04,\n",
       "        1.40400e+04]),\n",
       " <BarContainer object of 10 artists>)"
      ]
     },
     "execution_count": 38,
     "metadata": {},
     "output_type": "execute_result"
    },
    {
     "data": {
      "image/png": "[encoded data removed]",
      "text/plain": [
       "<Figure size 432x288 with 1 Axes>"
      ]
     },
     "metadata": {
      "needs_background": "light"
     },
     "output_type": "display_data"
    }
   ],
   "source": [
    "plt.hist(serv['post_length_serv'])"
   ]
  },
  {
   "cell_type": "code",
   "execution_count": 77,
   "metadata": {},
   "outputs": [
    {
     "data": {
      "text/plain": [
       "(array([ 437.,    5., 2942., 2943., 2796., 2944., 2838., 2885., 2928.,\n",
       "        1579.]),\n",
       " array([2012. , 2012.9, 2013.8, 2014.7, 2015.6, 2016.5, 2017.4, 2018.3,\n",
       "        2019.2, 2020.1, 2021. ]),\n",
       " <BarContainer object of 10 artists>)"
      ]
     },
     "execution_count": 77,
     "metadata": {},
     "output_type": "execute_result"
    },
    {
     "data": {
      "image/png": "[encoded data removed]",
      "text/plain": [
       "<Figure size 432x288 with 1 Axes>"
      ]
     },
     "metadata": {
      "needs_background": "light"
     },
     "output_type": "display_data"
    }
   ],
   "source": [
    "plt.hist(df['year'], bins = 10)"
   ]
  },
  {
   "cell_type": "code",
   "execution_count": 78,
   "metadata": {},
   "outputs": [
    {
     "data": {
      "text/plain": [
       "(array([ 296.,    4., 1489., 1478., 1372., 1464., 1413., 1430., 1442.,\n",
       "         789.]),\n",
       " array([2012. , 2012.9, 2013.8, 2014.7, 2015.6, 2016.5, 2017.4, 2018.3,\n",
       "        2019.2, 2020.1, 2021. ]),\n",
       " <BarContainer object of 10 artists>)"
      ]
     },
     "execution_count": 78,
     "metadata": {},
     "output_type": "execute_result"
    },
    {
     "data": {
      "image/png": "[encoded data removed]",
      "text/plain": [
       "<Figure size 432x288 with 1 Axes>"
      ]
     },
     "metadata": {
      "needs_background": "light"
     },
     "output_type": "display_data"
    }
   ],
   "source": [
    "plt.hist(ret['year_ret'], bins = 10)"
   ]
  },
  {
   "cell_type": "code",
   "execution_count": 79,
   "metadata": {},
   "outputs": [
    {
     "data": {
      "text/plain": [
       "(array([1.410e+02, 1.000e+00, 1.453e+03, 1.465e+03, 1.424e+03, 1.480e+03,\n",
       "        1.425e+03, 1.455e+03, 1.486e+03, 7.900e+02]),\n",
       " array([2012. , 2012.9, 2013.8, 2014.7, 2015.6, 2016.5, 2017.4, 2018.3,\n",
       "        2019.2, 2020.1, 2021. ]),\n",
       " <BarContainer object of 10 artists>)"
      ]
     },
     "execution_count": 79,
     "metadata": {},
     "output_type": "execute_result"
    },
    {
     "data": {
      "image/png": "[encoded data removed]",
      "text/plain": [
       "<Figure size 432x288 with 1 Axes>"
      ]
     },
     "metadata": {
      "needs_background": "light"
     },
     "output_type": "display_data"
    }
   ],
   "source": [
    "plt.hist(serv['year_serv'], bins = 10)"
   ]
  },
  {
   "cell_type": "code",
   "execution_count": 51,
   "metadata": {},
   "outputs": [
    {
     "data": {
      "text/plain": [
       "(array([1045.,  832.,  986.,  899., 1027.,  952.,  939.,  837.,  775.,\n",
       "         897.,  998.,  990.]),\n",
       " array([ 1.        ,  1.91666667,  2.83333333,  3.75      ,  4.66666667,\n",
       "         5.58333333,  6.5       ,  7.41666667,  8.33333333,  9.25      ,\n",
       "        10.16666667, 11.08333333, 12.        ]),\n",
       " <BarContainer object of 12 artists>)"
      ]
     },
     "execution_count": 51,
     "metadata": {},
     "output_type": "execute_result"
    },
    {
     "data": {
      "image/png": "[encoded data removed]",
      "text/plain": [
       "<Figure size 432x288 with 1 Axes>"
      ]
     },
     "metadata": {
      "needs_background": "light"
     },
     "output_type": "display_data"
    }
   ],
   "source": [
    "plt.hist(ret['month_ret'], bins = 12)"
   ]
  },
  {
   "cell_type": "code",
   "execution_count": 52,
   "metadata": {},
   "outputs": [
    {
     "data": {
      "text/plain": [
       "(array([1018.,  897.,  981.,  941., 1007.,  945.,  964.,  883.,  786.,\n",
       "         862.,  852.,  984.]),\n",
       " array([ 1.        ,  1.91666667,  2.83333333,  3.75      ,  4.66666667,\n",
       "         5.58333333,  6.5       ,  7.41666667,  8.33333333,  9.25      ,\n",
       "        10.16666667, 11.08333333, 12.        ]),\n",
       " <BarContainer object of 12 artists>)"
      ]
     },
     "execution_count": 52,
     "metadata": {},
     "output_type": "execute_result"
    },
    {
     "data": {
      "image/png": "[encoded data removed]",
      "text/plain": [
       "<Figure size 432x288 with 1 Axes>"
      ]
     },
     "metadata": {
      "needs_background": "light"
     },
     "output_type": "display_data"
    }
   ],
   "source": [
    "plt.hist(serv['month_serv'], bins = 12)"
   ]
  },
  {
   "cell_type": "code",
   "execution_count": 53,
   "metadata": {
    "scrolled": true
   },
   "outputs": [
    {
     "data": {
      "text/plain": [
       "(array([2063., 1729., 1967., 1840., 2034., 1897., 1903., 1720., 1561.,\n",
       "        1759., 1850., 1974.]),\n",
       " array([ 1.        ,  1.91666667,  2.83333333,  3.75      ,  4.66666667,\n",
       "         5.58333333,  6.5       ,  7.41666667,  8.33333333,  9.25      ,\n",
       "        10.16666667, 11.08333333, 12.        ]),\n",
       " <BarContainer object of 12 artists>)"
      ]
     },
     "execution_count": 53,
     "metadata": {},
     "output_type": "execute_result"
    },
    {
     "data": {
      "image/png": "[encoded data removed]",
      "text/plain": [
       "<Figure size 432x288 with 1 Axes>"
      ]
     },
     "metadata": {
      "needs_background": "light"
     },
     "output_type": "display_data"
    }
   ],
   "source": [
    "plt.hist(df['month'], bins =12)"
   ]
  },
  {
   "cell_type": "markdown",
   "metadata": {},
   "source": [
    "## Heatmaps"
   ]
  },
  {
   "cell_type": "markdown",
   "metadata": {},
   "source": [
    "Putting the numeric data from the various dataframe didn't offer very many insights. The only moderately strong correlation which occured in both dataframes, was between the number of comments and the score for a given post. This relationship was stronger in the retail subreddit, with a correlation coefficient of .68, compared to the weaker, but still present correlation of .45 in the server subreddit. "
   ]
  },
  {
   "cell_type": "code",
   "execution_count": 42,
   "metadata": {},
   "outputs": [
    {
     "data": {
      "text/plain": [
       "<AxesSubplot:>"
      ]
     },
     "execution_count": 42,
     "metadata": {},
     "output_type": "execute_result"
    },
    {
     "data": {
      "image/png": "[encoded data removed]",
      "text/plain": [
       "<Figure size 648x648 with 2 Axes>"
      ]
     },
     "metadata": {
      "needs_background": "light"
     },
     "output_type": "display_data"
    }
   ],
   "source": [
    "plt.figure(figsize=(9,9))\n",
    "sns.heatmap(ret.corr(), annot = True)"
   ]
  },
  {
   "cell_type": "code",
   "execution_count": 43,
   "metadata": {
    "scrolled": true
   },
   "outputs": [
    {
     "data": {
      "text/plain": [
       "<AxesSubplot:>"
      ]
     },
     "execution_count": 43,
     "metadata": {},
     "output_type": "execute_result"
    },
    {
     "data": {
      "image/png": "[encoded data removed]",
      "text/plain": [
       "<Figure size 648x648 with 2 Axes>"
      ]
     },
     "metadata": {
      "needs_background": "light"
     },
     "output_type": "display_data"
    }
   ],
   "source": [
    "plt.figure(figsize=(9,9))\n",
    "sns.heatmap(serv.corr(), annot = True)"
   ]
  },
  {
   "cell_type": "markdown",
   "metadata": {},
   "source": [
    "I was hoping by creating a concatenated dataframe, I might be able to find insights between variables across the dataframes, and with the exception of the time variables, which can be overlooked due to their autocorrelated nature, nothing exciting manifested. "
   ]
  },
  {
   "cell_type": "code",
   "execution_count": 44,
   "metadata": {
    "scrolled": true
   },
   "outputs": [
    {
     "data": {
      "text/plain": [
       "<AxesSubplot:>"
      ]
     },
     "execution_count": 44,
     "metadata": {},
     "output_type": "execute_result"
    },
    {
     "data": {
      "image/png": "[encoded data removed]",
      "text/plain": [
       "<Figure size 648x648 with 2 Axes>"
      ]
     },
     "metadata": {
      "needs_background": "light"
     },
     "output_type": "display_data"
    }
   ],
   "source": [
    "plt.figure(figsize=(9,9))\n",
    "sns.heatmap(ccat.corr(), annot = True)"
   ]
  },
  {
   "cell_type": "code",
   "execution_count": 45,
   "metadata": {},
   "outputs": [
    {
     "data": {
      "text/plain": [
       "<AxesSubplot:>"
      ]
     },
     "execution_count": 45,
     "metadata": {},
     "output_type": "execute_result"
    },
    {
     "data": {
      "image/png": "[encoded data removed]",
      "text/plain": [
       "<Figure size 432x288 with 2 Axes>"
      ]
     },
     "metadata": {
      "needs_background": "light"
     },
     "output_type": "display_data"
    }
   ],
   "source": [
    "sns.heatmap(df.corr(), annot = True)"
   ]
  },
  {
   "cell_type": "code",
   "execution_count": 46,
   "metadata": {},
   "outputs": [
    {
     "data": {
      "image/png": "[encoded data removed]",
      "text/plain": [
       "<Figure size 432x288 with 1 Axes>"
      ]
     },
     "metadata": {
      "needs_background": "light"
     },
     "output_type": "display_data"
    }
   ],
   "source": [
    "plt.hist(df['num_comments'], bins = 20);"
   ]
  }
 ],
 "metadata": {
  "kernelspec": {
   "display_name": "Python 3",
   "language": "python",
   "name": "python3"
  },
  "language_info": {
   "codemirror_mode": {
    "name": "ipython",
    "version": 3
   },
   "file_extension": ".py",
   "mimetype": "text/x-python",
   "name": "python",
   "nbconvert_exporter": "python",
   "pygments_lexer": "ipython3",
   "version": "3.8.5"
  }
 },
 "nbformat": 4,
 "nbformat_minor": 4
}
